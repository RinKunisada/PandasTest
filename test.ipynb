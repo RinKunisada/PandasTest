{
 "cells": [
  {
   "cell_type": "code",
   "execution_count": 4,
   "metadata": {},
   "outputs": [
    {
     "name": "stdout",
     "output_type": "stream",
     "text": [
      "              person    project            time_start              time_end  \\\n",
      "0      Frodo Baggins  Project b  2010-01-01T10:00:00Z  2010-01-01T12:50:00Z   \n",
      "1      Frodo Baggins  Project b  2010-01-01T17:18:44Z  2010-01-01T18:03:44Z   \n",
      "2      Frodo Baggins  Project b  2010-01-01T20:42:03Z  2010-01-01T23:37:03Z   \n",
      "3      Frodo Baggins  Project b  2010-01-03T11:16:49Z  2010-01-03T15:36:49Z   \n",
      "4      Frodo Baggins  Project b  2010-01-10T08:13:10Z  2010-01-10T10:59:10Z   \n",
      "...              ...        ...                   ...                   ...   \n",
      "4495  Samwise Gamgee  Project h  2015-12-24T08:04:06Z  2015-12-24T11:34:06Z   \n",
      "4496  Samwise Gamgee  Project h  2015-12-25T05:31:36Z  2015-12-25T08:31:36Z   \n",
      "4497  Samwise Gamgee  Project f  2015-12-26T02:34:49Z  2015-12-26T07:34:49Z   \n",
      "4498  Samwise Gamgee  Project f  2015-12-27T04:05:16Z  2015-12-27T05:50:16Z   \n",
      "4499  Samwise Gamgee  Project c  2015-12-27T12:11:07Z  2015-12-27T14:11:07Z   \n",
      "\n",
      "      duration  \n",
      "0            3  \n",
      "1            1  \n",
      "2            3  \n",
      "3            5  \n",
      "4            3  \n",
      "...        ...  \n",
      "4495         4  \n",
      "4496         3  \n",
      "4497         5  \n",
      "4498         2  \n",
      "4499         2  \n",
      "\n",
      "[4500 rows x 5 columns]\n"
     ]
    }
   ],
   "source": [
    "import pandas as pd\n",
    "data=pd.read_csv(\"data.csv\")\n",
    "print(data)"
   ]
  },
  {
   "cell_type": "code",
   "execution_count": 5,
   "metadata": {},
   "outputs": [
    {
     "data": {
      "text/html": [
       "<div>\n",
       "<style scoped>\n",
       "    .dataframe tbody tr th:only-of-type {\n",
       "        vertical-align: middle;\n",
       "    }\n",
       "\n",
       "    .dataframe tbody tr th {\n",
       "        vertical-align: top;\n",
       "    }\n",
       "\n",
       "    .dataframe thead th {\n",
       "        text-align: right;\n",
       "    }\n",
       "</style>\n",
       "<table border=\"1\" class=\"dataframe\">\n",
       "  <thead>\n",
       "    <tr style=\"text-align: right;\">\n",
       "      <th></th>\n",
       "      <th>person</th>\n",
       "      <th>project</th>\n",
       "      <th>time_start</th>\n",
       "      <th>time_end</th>\n",
       "      <th>duration</th>\n",
       "    </tr>\n",
       "  </thead>\n",
       "  <tbody>\n",
       "    <tr>\n",
       "      <th>0</th>\n",
       "      <td>Frodo Baggins</td>\n",
       "      <td>Project b</td>\n",
       "      <td>2010-01-01T10:00:00Z</td>\n",
       "      <td>2010-01-01T12:50:00Z</td>\n",
       "      <td>3</td>\n",
       "    </tr>\n",
       "    <tr>\n",
       "      <th>1</th>\n",
       "      <td>Frodo Baggins</td>\n",
       "      <td>Project b</td>\n",
       "      <td>2010-01-01T17:18:44Z</td>\n",
       "      <td>2010-01-01T18:03:44Z</td>\n",
       "      <td>1</td>\n",
       "    </tr>\n",
       "    <tr>\n",
       "      <th>2</th>\n",
       "      <td>Frodo Baggins</td>\n",
       "      <td>Project b</td>\n",
       "      <td>2010-01-01T20:42:03Z</td>\n",
       "      <td>2010-01-01T23:37:03Z</td>\n",
       "      <td>3</td>\n",
       "    </tr>\n",
       "  </tbody>\n",
       "</table>\n",
       "</div>"
      ],
      "text/plain": [
       "          person    project            time_start              time_end  \\\n",
       "0  Frodo Baggins  Project b  2010-01-01T10:00:00Z  2010-01-01T12:50:00Z   \n",
       "1  Frodo Baggins  Project b  2010-01-01T17:18:44Z  2010-01-01T18:03:44Z   \n",
       "2  Frodo Baggins  Project b  2010-01-01T20:42:03Z  2010-01-01T23:37:03Z   \n",
       "\n",
       "   duration  \n",
       "0         3  \n",
       "1         1  \n",
       "2         3  "
      ]
     },
     "execution_count": 5,
     "metadata": {},
     "output_type": "execute_result"
    }
   ],
   "source": [
    "data.head(3)"
   ]
  },
  {
   "cell_type": "markdown",
   "metadata": {},
   "source": [
    "print(data.index)\n",
    "print(data.columns)\n",
    "\n"
   ]
  },
  {
   "cell_type": "code",
   "execution_count": null,
   "metadata": {},
   "outputs": [],
   "source": [
    "import pandas as pd\n",
    "data=pd.read_csv(\"data.csv\")\n",
    "# print(data)\n",
    "# print(data.index)\n",
    "# print(data.columns)\n",
    "def process_projects(input_file, output_file):\n",
    "    df=pd.read_csv(input_file)\n",
    "    result=df.groupby(['person', 'project'])['duration'].sum().reset_index()\n",
    "    result.to_csv(output_file, index=False)"
   ]
  },
  {
   "cell_type": "code",
   "execution_count": null,
   "metadata": {},
   "outputs": [],
   "source": [
    "\n",
    "import sys\n",
    "input_file = \"data.csv\"\n",
    "output_file =\"output.csv\" \n",
    "df=process_projects(input_file, output_file)\n",
    "print(df)"
   ]
  }
 ],
 "metadata": {
  "kernelspec": {
   "display_name": "Python 3",
   "language": "python",
   "name": "python3"
  },
  "language_info": {
   "codemirror_mode": {
    "name": "ipython",
    "version": 3
   },
   "file_extension": ".py",
   "mimetype": "text/x-python",
   "name": "python",
   "nbconvert_exporter": "python",
   "pygments_lexer": "ipython3",
   "version": "3.12.4"
  }
 },
 "nbformat": 4,
 "nbformat_minor": 2
}
